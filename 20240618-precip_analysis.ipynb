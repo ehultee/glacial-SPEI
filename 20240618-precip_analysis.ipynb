{
 "cells": [
  {
   "cell_type": "markdown",
   "id": "a3bbb061-2bce-4509-b754-5041c88933f0",
   "metadata": {},
   "source": [
    "# Plot precip to contextualize drought metrics\n",
    "We have been studying SPEI in context with percent glaciation and with historical aridity index.  We know from Finn's work that glacier models modify the incoming precip over glaciers, sometimes by a lot.  Is this at play in the basins where we see differences among the models' drought indices?\n",
    "\n",
    "18 Jun 2024 | EHU\n",
    "- 19 Jun 24: Added full set of 11 GCMs that Sloan pulled.  Updating model names accordingly.\n",
    "- 25 Jul 24: Correct the units of the aggregated precip.  Current version is m3/mo.  Get to mm/day by (1) dividing by basin area in m2 and number of days in the associated month and (2) multiply by 1000 (m-->mm)\n",
    "- 7 Aug 24: Correct read-in -- `P_by_basin` was reading in order of basins_all instead of basin_name_list. Updating this to reflect correct order makes these plots align with what Sloan has previously shown.\n",
    "- 14 Aug 2024: Clean up process. Make plot of all 75 basins included in multi-glacier-model intercomparison study"
   ]
  },
  {
   "cell_type": "code",
   "execution_count": null,
   "id": "6065c449-ec24-4a71-8bdd-4128cc3a1c57",
   "metadata": {},
   "outputs": [],
   "source": [
    "import datetime\n",
    "import numpy as np\n",
    "import matplotlib.pyplot as plt\n",
    "from matplotlib import cm\n",
    "from matplotlib.patches import Rectangle\n",
    "import gSPEI as gSPEI"
   ]
  },
  {
   "cell_type": "code",
   "execution_count": null,
   "id": "844834f4-c0e4-4dfa-b1f3-bbe79fee7909",
   "metadata": {},
   "outputs": [],
   "source": [
    "default_colors = cm.get_cmap('plasma')"
   ]
  },
  {
   "cell_type": "markdown",
   "id": "ed5ae0ed-442b-4839-878d-4d33cd587381",
   "metadata": {},
   "source": [
    "## Preliminary step: plot GCM precip directly\n",
    "We have been showing a plot from Sloan that compares CMIP6 model dispersion in total basin precip over the Rhone.  What is the spread in our selected set of models?"
   ]
  },
  {
   "cell_type": "code",
   "execution_count": null,
   "id": "8fa05d87-643f-47e7-8e73-67ae21705c77",
   "metadata": {},
   "outputs": [],
   "source": [
    "## Define the filepath streamed from Google Drive\n",
    "fpath = '/Volumes/GoogleDrive/My Drive/Runoff-intercomparison/GCM-PET_Precip/'\n",
    "\n",
    "\n",
    "## Settings in filenames -- slightly different model names and scenarios\n",
    "modelnames = ['BCC-CSM2-MR',\n",
    "              'MPI-ESM1-2-HR',\n",
    "              'MRI-ESM2-0',\n",
    "              'CESM2-WACCM',\n",
    "              'NorESM2-MM',\n",
    "              'FGOALS-f3-L',\n",
    "              'GFDL-ESM4',\n",
    "              'INM-CM4-8',\n",
    "              'INM-CM5-0',\n",
    "              'EC-Earth3',\n",
    "              'EC-Earth3-Veg']\n",
    "# scenarios = ['Ssp2p6', 'Ssp4p5', 'Ssp7p0', 'Ssp8p5'] # climate scenarios\n",
    "scenarios = ['Ssp4p5', 'Ssp8p5'] # climate scenarios included for 11 GCM set\n",
    "\n",
    "\n",
    "yrs = np.linspace(1900, 2101, num=2412) # time interval over which we have data"
   ]
  },
  {
   "cell_type": "code",
   "execution_count": null,
   "id": "f1ee16a4-d53f-4001-841c-8b6ae5682bc8",
   "metadata": {},
   "outputs": [],
   "source": [
    "## Basins in the order they are written\n",
    "basins_all = {'RHINE':'6242', 'RHONE':'6243','PO':'6241', 'DANUBE':'6202', 'TITICACA':'3912', 'SANTA':'3425', \n",
    "            'OCONA':'3418', 'MAJES':'3416', 'MAGDALENA':'3227', 'AMAZON':'3203', 'YELCHO':'3429', \n",
    "            'VALDIVIA':'3428', 'SERRANO':'3426', 'RAPEL':'3423', 'PUELO':'3422', 'PASCUA':'3420', \n",
    "            'PALENA':'3419', 'HUASCO':'3412', 'COPIAPO':'3409', 'CISNES':'3408', 'BIOBIO':'3405', 'BAKER':'3404',\n",
    "            'AZOPARDO':'3403', 'AISEN':'3401', 'SANTA CRUZ':'3244', 'NEGRO':'3232', 'COLORADO':'3212', \n",
    "            'CHICO':'3209', 'TORNEALVEN':'6255', 'THJORSA':'6254', 'OLFUSA':'6237', 'LULEALVEN':'6227', \n",
    "            'KUBAN':'6223', 'KALIXALVEN':'6219', 'GLOMAA':'6213', 'DRAMSELVA':'6209', 'SVARTA':'6110', \n",
    "            'LAGARFLJOT':'6104', 'JOKULSA A FJOLLUM':'6101', 'CLUTHA':'5406', 'YUKON':'4435', 'TAKU':'4431', \n",
    "             'SUSITNA':'4430','STIKINE':'4428', 'SKEENA':'4427','SKAGIT':'4426','NUSHAGAK':'4418','NASS':'4416',\n",
    "            'KUSKOKWIM':'4414','FRASER':'4410', 'COPPER':'4408', 'COLUMBIA':'4406', 'ALSEK':'4401', 'NELSON':'4125', \n",
    "              'MACKENZIE':'4123','COLVILLE':'4110', 'YSYK-KOL':'2919', 'UVS NUUR':'2918', 'TARIM HE':'2914', \n",
    "              'TALAS':'2913', 'LAKE BALKHASH':'2910','HAR US NUUR':'2909', 'CHUY':'2905', 'ARAL SEA':'2902', \n",
    "              'YELLOW RIVER':'2434', 'MEKONG':'2421', 'KAMCHATKA':'2413', 'SALWEEN':'2319', 'IRRAWADDY':'2310', \n",
    "              'INDUS':'2309', 'GANGES':'2306','BRAHMAPUTRA':'2302', 'OB':'2108', 'INDIGIRKA':'2103','YANGTZE' : '2433'}"
   ]
  },
  {
   "cell_type": "code",
   "execution_count": null,
   "id": "14981279-6b10-4aeb-82e6-7b8f81b5b7d9",
   "metadata": {},
   "outputs": [],
   "source": [
    "#Loading in total Basin area data -- following Finn percent glaciation code\n",
    "from scipy.io import loadmat\n",
    "import pandas as pd\n",
    "path_to_area = '/Volumes/GoogleDrive/My Drive/Runoff-intercomparison/Summary-statistics/BasinArea.mat' ## need access!\n",
    "BasinAreas = loadmat(path_to_area)\n",
    "#Creating indexed df\n",
    "basin_areas = BasinAreas['BasinArea']\n",
    "basin_names = BasinAreas['BasinNam']\n",
    "basin_name_list = [name[1][0] for name in basin_names]\n",
    "\n",
    "revised_names = {'ISSYK-KUL': 'YSYK-KOL', 'LAGARFLIOT': 'LAGARFLJOT'}.get ## revise to align Sloan's names with Finn's spelling\n",
    "basin_name_list = [revised_names(n,n) for n in basin_name_list]\n",
    "\n",
    "TotalBasinAreas = pd.DataFrame({'Basin Area': basin_areas.squeeze()}, index=basin_name_list).sort_index()\n",
    "# TotalBasinAreas = TotalBasinAreas.rename(index={'ISSYK-KUL': 'YSYK-KOL', 'LAGARFLIOT' : 'LAGARFLJOT'}).sort_index() #Same Basins"
   ]
  },
  {
   "cell_type": "code",
   "execution_count": null,
   "id": "dd103fb5-ee75-4533-8209-b3c7cd38922d",
   "metadata": {},
   "outputs": [],
   "source": [
    "TotalBasinAreas"
   ]
  },
  {
   "cell_type": "code",
   "execution_count": null,
   "id": "57ae8568-9ff0-4fa0-a7aa-2e664c287b19",
   "metadata": {},
   "outputs": [],
   "source": [
    "P_by_model = {m: {} for m in modelnames}\n",
    "for m in modelnames:\n",
    "    for s in scenarios:\n",
    "        example_p = fpath+'{}_PREC_{}.txt'.format(m,s)\n",
    "        P_by_model[m][s] = np.loadtxt(example_p)"
   ]
  },
  {
   "cell_type": "code",
   "execution_count": null,
   "id": "1f4d084f-fab4-473a-91dc-e36844b2725e",
   "metadata": {},
   "outputs": [],
   "source": [
    "# P_by_basin = {b: {} for b in basins_all} # precipitation by basin\n",
    "P_by_basin = {b: {} for b in basin_name_list} # precipitation by basin, ordered per Sloan\n",
    "\n",
    "\n",
    "for i, b in enumerate(basin_name_list): ## note this must be the list in Sloan's order\n",
    "    P_by_basin[b] = {s: {} for s in scenarios}\n",
    "    for s in scenarios:\n",
    "        tempdict_p = {}\n",
    "        for m in modelnames:\n",
    "            tempdict_p[m] = P_by_model[m][s][i]\n",
    "        P_by_basin[b][s] = pd.DataFrame.from_dict(tempdict_p)"
   ]
  },
  {
   "cell_type": "markdown",
   "id": "d7d5471d-0cf5-4b20-bead-9028a5c34b3f",
   "metadata": {},
   "source": [
    "Spot-check total precip for an example basin."
   ]
  },
  {
   "cell_type": "code",
   "execution_count": null,
   "id": "567958d4-4844-4d2f-a472-672c91c8875e",
   "metadata": {},
   "outputs": [],
   "source": [
    "this_basin = 'RHONE'\n",
    "rng = pd.date_range('1900-01-01', periods=2412, freq='M')"
   ]
  },
  {
   "cell_type": "code",
   "execution_count": null,
   "id": "fff750a8-5e4f-4e20-a5c7-c7a527491943",
   "metadata": {},
   "outputs": [],
   "source": [
    "fig, ax = plt.subplots()\n",
    "for i,this_GCM in enumerate(modelnames):\n",
    "    this_precip = pd.Series(P_by_basin[this_basin]['Ssp4p5'][this_GCM])\n",
    "    this_precip.index=rng\n",
    "    this_precip_dailyavg = this_precip / this_precip.index.days_in_month\n",
    "    ## handy days_in_month utility\n",
    "    this_precip_mmday = this_precip_dailyavg*1000 / (TotalBasinAreas.loc[this_basin].squeeze()*1e6)\n",
    "    ## convert from m--> mm on top, km2-->m2 on bottom\n",
    "    ax.plot(this_precip_mmday.resample('A').mean(), label=this_GCM, color=default_colors(i/len(modelnames)))\n",
    "ax.set(xlim=(pd.datetime(1999,12,31),pd.datetime(2100,12,31)),\n",
    "      xlabel='Year',\n",
    "      ylabel='Basin aggregated precip [mm/day]',\n",
    "      title='{} basin precip (30-year rolling mean, rel. 2000-2020) \\n from GCMs used to force glacier models'.format(str.capitalize(this_basin)));\n",
    "ax.legend(loc='best')"
   ]
  },
  {
   "cell_type": "markdown",
   "id": "19cef35c-b560-4d6c-a5b0-0f4a1c2de754",
   "metadata": {},
   "source": [
    "Sloan previously plotted mm/day relative to 2000-2020.  Remove 2000-2020 mean and check anomaly series.\n",
    "\n"
   ]
  },
  {
   "cell_type": "code",
   "execution_count": null,
   "id": "be905c0a-1d13-461f-bdfe-a5ba6dde58d9",
   "metadata": {},
   "outputs": [],
   "source": [
    "fig, ax = plt.subplots()\n",
    "ax.axhline(0, color='k', ls=':', lw= 0.5)\n",
    "for i,this_GCM in enumerate(modelnames):\n",
    "    this_precip = pd.Series(P_by_basin[this_basin]['Ssp4p5'][this_GCM])\n",
    "    this_precip.index=rng\n",
    "    \n",
    "    this_precip_dailyavg = this_precip / this_precip.index.days_in_month\n",
    "    ## handy days_in_month utility\n",
    "    this_precip_mmday = this_precip_dailyavg*1000 / (TotalBasinAreas.loc[this_basin].squeeze()*1e6)\n",
    "\n",
    "    hist_mean = this_precip_mmday['2000-01-31':'2020-12-31'].resample('A').mean().mean()\n",
    "    ax.plot((this_precip_mmday.resample('A').mean()-hist_mean), label=this_GCM, color=default_colors(i/len(modelnames)))\n",
    "ax.legend(bbox_to_anchor=(1.05, 1.0), ncol=1)\n",
    "\n",
    "ax.set(xlim=(pd.datetime(1999,12,31),pd.datetime(2100,12,31)),\n",
    "      xlabel='Year',\n",
    "      ylabel='Basin aggregated precip [mm/day]',\n",
    "      title='{} basin precip anomaly (relative to 2000-2020) \\n from GCMs used to force glacier models'.format(str.capitalize(this_basin)));"
   ]
  },
  {
   "cell_type": "code",
   "execution_count": null,
   "id": "b0aeed10-f485-4a32-b516-e9ad521b4b33",
   "metadata": {},
   "outputs": [],
   "source": [
    "fig, ax = plt.subplots()\n",
    "ax.axhline(0, color='k', ls=':', lw= 0.5)\n",
    "for i,this_GCM in enumerate(modelnames):\n",
    "    this_precip = pd.Series(P_by_basin[this_basin]['Ssp4p5'][this_GCM])\n",
    "    this_precip.index=rng\n",
    "    \n",
    "    this_precip_dailyavg = this_precip / this_precip.index.days_in_month\n",
    "    ## handy days_in_month utility\n",
    "    this_precip_mmday = this_precip_dailyavg*1000 / (TotalBasinAreas.loc[this_basin].squeeze()*1e6)\n",
    "\n",
    "    hist_mean = this_precip_mmday['2000-01-31':'2020-12-31'].resample('A').mean().mean()\n",
    "    ax.plot((this_precip_mmday.resample('A').mean()-hist_mean).rolling(window=30).mean(), label=this_GCM, color=default_colors(i/len(modelnames)))\n",
    "ax.legend(bbox_to_anchor=(1.05, 1.0), ncol=1)\n",
    "\n",
    "ax.set(xlim=(pd.datetime(1999,12,31),pd.datetime(2100,12,31)),\n",
    "      xlabel='Year',\n",
    "      ylabel='Basin precip anomaly [mm/day]',\n",
    "      title='{} basin precip anomaly (30-year rolling mean, rel. 2000-2020) \\n from GCMs used to force glacier models'.format(str.capitalize(this_basin)));"
   ]
  },
  {
   "cell_type": "markdown",
   "id": "12ba5d28-d7d3-45ec-a36d-790b6200d869",
   "metadata": {},
   "source": [
    "Compare with the CMIP archive that Sloan visualized.  This has roughly the same order of magnitude, though the range is narrower than the full CMIP6 ensemble (here roughly -0.3 to +0.3, full ensemble roughly -0.8 to +0.4).  The 12 models do not seem to have a consistent increasing/decreasing trend; the full CMIP6 archive did not either.  Let's look at some other basins."
   ]
  },
  {
   "cell_type": "markdown",
   "id": "b7f90f43-cce3-415b-8346-bd4890c093be",
   "metadata": {},
   "source": [
    "## Spot check a few other basins"
   ]
  },
  {
   "cell_type": "code",
   "execution_count": null,
   "id": "909c0472-389b-44f4-b2a5-6776e6eb6fa7",
   "metadata": {},
   "outputs": [],
   "source": [
    "test_basins = ['RHINE', 'RHONE', 'DANUBE', 'PO']\n",
    "\n",
    "fig, axs = plt.subplots(2,2, sharex=True)\n",
    "for i, ax in enumerate(axs.ravel()):\n",
    "    this_basin = test_basins[i]\n",
    "    basin_label = ' '.join([s.capitalize() for s in this_basin.split(' ')])\n",
    "    \n",
    "    ax.axhline(0, color='k', ls=':', lw= 0.5)\n",
    "    for i,this_GCM in enumerate(modelnames):\n",
    "        this_precip = pd.Series(P_by_basin[this_basin]['Ssp4p5'][this_GCM])\n",
    "        this_precip.index=rng\n",
    "        \n",
    "        this_precip_dailyavg = this_precip / this_precip.index.days_in_month\n",
    "        ## handy days_in_month utility\n",
    "        this_precip_mmday = this_precip_dailyavg*1000 / (TotalBasinAreas.loc[this_basin].squeeze()*1e6)\n",
    "        \n",
    "        hist_mean = this_precip_mmday['2000-01-31':'2020-12-31'].resample('A').mean().mean()\n",
    "        ax.plot((this_precip_mmday.resample('A').mean()-hist_mean), label=this_GCM, color=default_colors(i/len(modelnames)))\n",
    "\n",
    "    ax.set(xlim=(datetime.datetime(1999,12,31),datetime.datetime(2100,12,31)))\n",
    "    ax.text(0.7, 0.1, basin_label, transform=ax.transAxes)\n",
    "\n",
    "axs[0,1].legend(bbox_to_anchor=(1.05, 1.0), ncol=1)\n",
    "fig.suptitle('Basin precip anomaly (relative to 2000-2020) \\n from GCMs used to force glacier models')\n",
    "fig.supxlabel('Year')\n",
    "fig.supylabel('Basin monthly precip anom. [mm/day]');"
   ]
  },
  {
   "cell_type": "code",
   "execution_count": null,
   "id": "b21efb49-50bb-4286-a713-9b78ac194746",
   "metadata": {},
   "outputs": [],
   "source": [
    "fig, axs = plt.subplots(2,2, sharex=True)\n",
    "for i, ax in enumerate(axs.ravel()):\n",
    "    this_basin = test_basins[i]\n",
    "    basin_label = ' '.join([s.capitalize() for s in this_basin.split(' ')]) ## manage multi-word basin names\n",
    "    \n",
    "    ax.axhline(0, color='k', ls=':', lw= 0.5)\n",
    "    for i,this_GCM in enumerate(modelnames):\n",
    "        this_precip = pd.Series(P_by_basin[this_basin]['Ssp4p5'][this_GCM])\n",
    "        this_precip.index=rng\n",
    "        \n",
    "        this_precip_dailyavg = this_precip / this_precip.index.days_in_month\n",
    "        ## handy days_in_month utility\n",
    "        this_precip_mmday = this_precip_dailyavg*1000 / (TotalBasinAreas.loc[this_basin].squeeze()*1e6)\n",
    "        \n",
    "        hist_mean = this_precip_mmday['2000-01-31':'2020-12-31'].resample('A').mean().mean()\n",
    "        ax.plot((this_precip_mmday.resample('A').mean()-hist_mean).rolling(window=30).mean(), \n",
    "                label=this_GCM, color=default_colors(i/len(modelnames)))\n",
    "\n",
    "    ax.set(xlim=(datetime.datetime(1999,12,31),datetime.datetime(2100,12,31)))\n",
    "    ax.text(0.1, 0.9, basin_label, transform=ax.transAxes)\n",
    "\n",
    "axs[0,1].legend(bbox_to_anchor=(1.05, 1.0), ncol=1)\n",
    "fig.suptitle('Basin precip anomaly (30-year rolling mean, rel. to 2000-2020) \\n from GCMs used to force glacier models')\n",
    "fig.supxlabel('Year')\n",
    "fig.supylabel('Basin precip anom [mm/day]')"
   ]
  },
  {
   "cell_type": "markdown",
   "id": "fa1ea4e3-c810-4919-b74b-c100a86f57d0",
   "metadata": {},
   "source": [
    "These (Rhine, Rhone, Danube, Po) look relatively similar.  We don't have the full CMIP6 archive plot to compare; consider whether it makes sense for Sloan/Lizz to run that comparison for more example basins."
   ]
  },
  {
   "cell_type": "markdown",
   "id": "26d7830e-f35a-48d1-87f8-1351f4d6db26",
   "metadata": {},
   "source": [
    "## Precip extracted for all 75 basins in runoff analysis"
   ]
  },
  {
   "cell_type": "code",
   "execution_count": null,
   "id": "f86212d7-42dd-4b82-92c9-c87e91ed74b6",
   "metadata": {},
   "outputs": [],
   "source": [
    "fig, axs = plt.subplots(15,5, figsize=(13,16), sharex=True)\n",
    "for j,b in enumerate(basin_name_list):\n",
    "    ax = axs.ravel()[j]\n",
    "    ax.axhline(0, color='k', ls=':', lw=0.5)\n",
    "    \n",
    "    basin_label = ' '.join([s.capitalize() for s in b.split(' ')]) ## manage multi-word basin names\n",
    "    \n",
    "    for i,this_GCM in enumerate(modelnames):\n",
    "        this_precip = pd.Series(P_by_basin[b]['Ssp4p5'][this_GCM])\n",
    "        this_precip.index=rng\n",
    "        \n",
    "        this_precip_dailyavg = this_precip / this_precip.index.days_in_month\n",
    "        ## handy days_in_month utility\n",
    "        this_precip_mmday = this_precip_dailyavg*1000 / (TotalBasinAreas.loc[b].squeeze()*1e6)\n",
    "        \n",
    "        hist_mean = this_precip_mmday['2000-01-31':'2020-12-31'].resample('A').mean().mean()\n",
    "        ax.plot((this_precip_mmday.resample('A').mean()-hist_mean).rolling(window=30).mean(), \n",
    "                label=this_GCM, color=default_colors(i/len(modelnames)))\n",
    "\n",
    "    ax.set(xlim=(datetime.datetime(1999,12,31),datetime.datetime(2100,12,31)))\n",
    "    ax.text(0.1, 0.9, basin_label, transform=ax.transAxes)\n",
    "\n",
    "axs[0,4].legend(bbox_to_anchor=(1.05, 1.0), ncol=1)\n",
    "axs[14,2].set_xlabel('Year', fontsize=14) ## use a direct axis label so that suptitle is not so far away from the axes\n",
    "for k in range(len(axs[14])):\n",
    "    axs[14,k].set(xticks=pd.date_range(datetime.datetime(2000,1,1), periods=6, freq='20YS').tolist(),\n",
    "                  xticklabels=['2000','','','','', '2100'])\n",
    "    axs[14,k].tick_params(axis='x', rotation=45)\n",
    "\n",
    "# fig.supxlabel('Month', fontsize=14)\n",
    "fig.suptitle('Basin precip anomaly (30-year rolling mean, rel. to 2000-2020) \\n from GCMs used to force glacier models',\n",
    "            fontsize=14);\n",
    "# fig.supxlabel('Year', fontsize=14);\n",
    "fig.supylabel('Basin precip anom [mm/day]', fontsize=14);\n",
    "plt.tight_layout()"
   ]
  },
  {
   "cell_type": "markdown",
   "id": "ba2aa9a4-99d0-4de5-a3a0-77312cb12de3",
   "metadata": {},
   "source": [
    "## Percent change in precip\n",
    "We'd like to be able to compare these plots with each other on the same axes.  Express as percent change rather than precip anomaly."
   ]
  },
  {
   "cell_type": "code",
   "execution_count": null,
   "id": "b6ed17b6-54da-4da0-96dd-43e8b5d8c34d",
   "metadata": {},
   "outputs": [],
   "source": [
    "fig, axs = plt.subplots(15,5, figsize=(13,16), sharex=True, sharey=True)\n",
    "for j,b in enumerate(basin_name_list):\n",
    "    ax = axs.ravel()[j]\n",
    "    basin_label = ' '.join([s.capitalize() for s in b.split(' ')]) ## manage multi-word basin names\n",
    "    \n",
    "    for i,this_GCM in enumerate(modelnames):\n",
    "        this_precip = pd.Series(P_by_basin[b]['Ssp4p5'][this_GCM])\n",
    "        this_precip.index=rng\n",
    "        \n",
    "        this_precip_dailyavg = this_precip / this_precip.index.days_in_month\n",
    "        ## handy days_in_month utility\n",
    "        this_precip_mmday = this_precip_dailyavg*1000 / (TotalBasinAreas.loc[b].squeeze()*1e6)\n",
    "        \n",
    "        hist_mean = this_precip_mmday['2000-01-31':'2020-12-31'].resample('A').mean().mean()\n",
    "        ax.plot(((this_precip_mmday.resample('A').mean()-hist_mean).rolling(window=30).mean())/(hist_mean*0.01), ## express as percent change \n",
    "                label=this_GCM, color=default_colors(i/len(modelnames)))\n",
    "        \n",
    "    ax.axhline(0, color='k', ls=':')\n",
    "    ax.set(xlim=(datetime.datetime(1999,12,31),datetime.datetime(2100,12,31)),\n",
    "          ylim=[-20,20])\n",
    "    ax.text(0.1, 0.8, basin_label, transform=ax.transAxes)\n",
    "\n",
    "axs[0,4].legend(bbox_to_anchor=(1.05, 1.0), ncol=1)\n",
    "axs[14,2].set_xlabel('Year', fontsize=14) ## use a direct axis label so that suptitle is not so far away from the axes\n",
    "for k in range(len(axs[14])):\n",
    "    axs[14,k].set(xticks=pd.date_range(datetime.datetime(2000,1,1), periods=6, freq='20YS').tolist(),\n",
    "                  xticklabels=['2000','','','','', '2100'])\n",
    "    axs[14,k].tick_params(axis='x', rotation=45)\n",
    "\n",
    "# fig.supxlabel('Month', fontsize=14)\n",
    "fig.suptitle('Basin precip % change (30-year rolling mean, rel. to 2000-2020) \\n from GCMs used to force glacier models',\n",
    "            fontsize=14);\n",
    "# fig.supxlabel('Year', fontsize=14);\n",
    "fig.supylabel('Basin precip change [% 2000-2020]', fontsize=14);\n",
    "plt.tight_layout()"
   ]
  },
  {
   "cell_type": "code",
   "execution_count": null,
   "id": "eb8467eb-e420-40c3-b212-07fa7ecbb9ed",
   "metadata": {},
   "outputs": [],
   "source": []
  }
 ],
 "metadata": {
  "kernelspec": {
   "display_name": "Python 3 (ipykernel)",
   "language": "python",
   "name": "python3"
  },
  "language_info": {
   "codemirror_mode": {
    "name": "ipython",
    "version": 3
   },
   "file_extension": ".py",
   "mimetype": "text/x-python",
   "name": "python",
   "nbconvert_exporter": "python",
   "pygments_lexer": "ipython3",
   "version": "3.10.9"
  }
 },
 "nbformat": 4,
 "nbformat_minor": 5
}
