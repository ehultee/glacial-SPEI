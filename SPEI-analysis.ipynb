{
 "cells": [
  {
   "cell_type": "markdown",
   "metadata": {},
   "source": [
    "# Examining the effect of including glacial runoff in SPEI drought risk calculations"
   ]
  },
  {
   "cell_type": "markdown",
   "metadata": {},
   "source": [
    "Welcome!  This notebook will reproduce and visualise the analyses behind Ultee, Coats & Mackay, \"Glacial runoff buffers drought through the 21st century\" (submitted to ESD), using helper functions from gSPEI.py.  All code is stored in a public GitHub repository--click [here](https://github.com/ehultee/glacial-SPEI) for access."
   ]
  },
  {
   "cell_type": "markdown",
   "metadata": {},
   "source": [
    "### Loading in modules and data"
   ]
  },
  {
   "cell_type": "code",
   "execution_count": null,
   "metadata": {},
   "outputs": [],
   "source": [
    "import numpy as np\n",
    "import matplotlib.pyplot as plt\n",
    "from matplotlib import cm\n",
    "from matplotlib.patches import Rectangle\n",
    "import gSPEI as gSPEI"
   ]
  },
  {
   "cell_type": "code",
   "execution_count": null,
   "metadata": {},
   "outputs": [],
   "source": [
    "## Define the filepath - abbreviations indicate\n",
    "## (P)arametric or (NP)nonparametric;\n",
    "## Standardization (1) lumped or (2) split by starting month\n",
    "fpath_NP2 = './data/SPEI_Files/nonparametric-var_stom_c/'\n",
    "\n",
    "## Settings in filenames\n",
    "integration_times = np.arange(3, 28, 4) # all SPEI integration times used\n",
    "modelnames = ['CanESM2', 'CCSM4', 'CNRM-CM5', 'CSIRO-Mk3-6-0', 'GISS-E2-R', 'INMCM4', 'MIROC-ESM', 'NorESM1-M'] # all models used in comparison\n",
    "scenarios = ['Rcp4p5', 'Rcp8p5'] # climate scenarios\n",
    "cases = ['NRunoff', 'WRunoff', 'diff'] # inclusion of glacier runoff\n",
    "\n",
    "## Basins in the order they are written in each file\n",
    "basin_names = ['INDUS','TARIM','BRAHMAPUTRA','ARAL SEA','COPPER','GANGES','YUKON','ALSEK','SUSITNA','BALKHASH','STIKINE','SANTA CRUZ',\n",
    "'FRASER','BAKER','YANGTZE','SALWEEN','COLUMBIA','ISSYK-KUL','AMAZON','COLORADO','TAKU','MACKENZIE','NASS','THJORSA','JOEKULSA A F.',\n",
    "'KUSKOKWIM','RHONE','SKEENA','OB','OELFUSA','MEKONG','DANUBE','NELSON RIVER','PO','KAMCHATKA','RHINE','GLOMA','HUANG HE','INDIGIRKA',\n",
    "'LULE','RAPEL','SANTA','SKAGIT','KUBAN','TITICACA','NUSHAGAK','BIOBIO','IRRAWADDY','NEGRO','MAJES','CLUTHA','DAULE-VINCES',\n",
    "'KALIXAELVEN','MAGDALENA','DRAMSELV','COLVILLE']\n",
    "\n",
    "yrs = np.linspace(1900, 2101, num=2412) # time interval over which we have data"
   ]
  },
  {
   "cell_type": "markdown",
   "metadata": {},
   "source": [
    "Now we will load data into a dictionary for one specific climate scenario, indexed by model name.  You can choose to analyse a different climate scenario or a different SPEI integration timescale by changing the arguments `itime` and `scen` below."
   ]
  },
  {
   "cell_type": "code",
   "execution_count": null,
   "metadata": {},
   "outputs": [],
   "source": [
    "itime = integration_times[0] # select timescale of integration. [0] is 3 months, used in manuscript.\n",
    "scen = scenarios[0] # choose whether to load RCP 4.5 or RCP 8.5\n",
    "\n",
    "SPEI_by_model = {m: {} for m in modelnames} # create dictionary indexed by model name\n",
    "for m in modelnames:\n",
    "    norunoff_f_m = fpath_NP2+'NRunoff_{}_{}_{}_Conduct.txt'.format(itime, m, scen)\n",
    "    wrunoff_f_m = fpath_NP2+'WRunoff_{}_{}_{}_Conduct.txt'.format(itime, m, scen)\n",
    "    SPEI_by_model[m]['NRunoff'] = np.loadtxt(norunoff_f_m)\n",
    "    SPEI_by_model[m]['WRunoff'] = np.loadtxt(wrunoff_f_m)\n",
    "    SPEI_by_model[m]['diff'] = SPEI_by_model[m]['WRunoff'] - SPEI_by_model[m]['NRunoff']\n",
    "\n",
    "## Re-structure dictionary and create pandas DataFrames aggregated by basin\n",
    "SPEI_by_basin_raw = gSPEI.sort_models_to_basins(SPEI_by_model)\n",
    "SPEI_by_basin = {b: {} for b in basin_names}\n",
    "for b in basin_names:\n",
    "    for c in cases:\n",
    "        SPEI_by_basin[b][c] = SPEI_by_basin_raw[b][c].fillna(-3) # fill negative excursions that were stored as NaNs"
   ]
  },
  {
   "cell_type": "markdown",
   "metadata": {},
   "source": [
    "## Plot multi-GCM ensemble series for a given basin"
   ]
  },
  {
   "cell_type": "markdown",
   "metadata": {},
   "source": [
    "First, we can plot time series of SPEI with and without glacial runoff included.  Examples of this kind of figure appear in Ultee, Coats & Mackay Figure 1.\n",
    "\n",
    "We will use a helper function from gSPEI.py to compare running ensemble mean SPEI with no glacial runoff (orange) versus with glacial runoff (blue).  The function can also show SPEI time series for a single basin, separated by the global climate model that produced each series.  Choose the basin by its name from the `basin_names` list, above. \n",
    "\n",
    "By default, we plot a running mean so that long-term trends can be more easily seen.  If you prefer, you can adjust `window` to show time series with less smoothing (shorter rolling-mean windows).  You can also turn on or off the option to see single-GCM series along with the ensembles."
   ]
  },
  {
   "cell_type": "code",
   "execution_count": null,
   "metadata": {},
   "outputs": [],
   "source": [
    "example_b = 'COPPER' # name of basin to examine, selected from basin_names above\n",
    "win = 30 # window in years over which to calculate the running mean\n",
    "plot_single_models = True # choose whether to see individual GCMs plotted over ensembles"
   ]
  },
  {
   "cell_type": "code",
   "execution_count": null,
   "metadata": {},
   "outputs": [],
   "source": [
    "## Compute multi-GCM ensemble means and quartiles\n",
    "r_w = gSPEI.basin_ensemble_mean(SPEI_by_basin, example_b, 'WRunoff').rolling(window=12*win).mean()\n",
    "r_n = gSPEI.basin_ensemble_mean(SPEI_by_basin, example_b, 'NRunoff').rolling(window=12*win).mean()\n",
    "rm = SPEI_by_basin[example_b]['WRunoff'].rolling(window=12*30, axis=0).mean()\n",
    "rm_q1 = rm.quantile(q=0.25, axis=1)\n",
    "rm_q3 = rm.quantile(q=0.75, axis=1)\n",
    "rm_n = SPEI_by_basin[example_b]['NRunoff'].rolling(window=12*30, axis=0).mean()\n",
    "rm_q1_n = rm_n.quantile(q=0.25, axis=1)\n",
    "rm_q3_n = rm_n.quantile(q=0.75, axis=1)\n",
    "\n",
    "single_models_w = [SPEI_by_basin[example_b]['WRunoff'][m].rolling(window=12*win).mean() for m in modelnames]\n",
    "single_models_n = [SPEI_by_basin[example_b]['NRunoff'][m].rolling(window=12*win).mean() for m in modelnames]"
   ]
  },
  {
   "cell_type": "code",
   "execution_count": null,
   "metadata": {},
   "outputs": [],
   "source": [
    "colors_w = cm.get_cmap('Blues')(np.linspace(0.2, 1, num=len(modelnames)))\n",
    "colors_n = cm.get_cmap('Wistia')(np.linspace(0.2, 1, num=len(modelnames)))\n",
    "fig, ax = plt.subplots()\n",
    "ax.plot(yrs, r_w, 'k', linewidth=3.0)\n",
    "ax.plot(yrs, rm_q1, 'k')\n",
    "ax.plot(yrs, rm_q3, 'k')\n",
    "ax.plot(yrs, r_n, 'k', linewidth=3.0, ls=':')\n",
    "ax.plot(yrs, rm_q1_n, 'k', ls=':')\n",
    "ax.plot(yrs, rm_q3_n, 'k', ls=':')\n",
    "if plot_single_models:\n",
    "    for i in range(len(modelnames)):\n",
    "        ax.plot(yrs, single_models_w[i], color=colors_w[i], alpha=0.5)\n",
    "        ax.plot(yrs, single_models_n[i], color=colors_n[i], alpha=0.5)\n",
    "ax.fill_between(yrs, rm_q1, rm_q3, color='DarkBlue', alpha=0.2)\n",
    "ax.fill_between(yrs, rm_q1_n, rm_q3_n, color='DarkOrange', alpha=0.2)\n",
    "ax.tick_params(axis='both', labelsize=12)\n",
    "ax.set_xticks([2000, 2050, 2100])\n",
    "ax.set_xlim(1980, 2100)\n",
    "ax.set_xlabel('Years', fontsize=14)\n",
    "ax.set_ylabel('Rolling mean SPEI', fontsize=14)\n",
    "plt.tight_layout()"
   ]
  },
  {
   "cell_type": "markdown",
   "metadata": {},
   "source": [
    "## Compare multi-GCM ensemble series across basins"
   ]
  },
  {
   "cell_type": "markdown",
   "metadata": {},
   "source": [
    "Figure 1 of Ultee, Coats & Mackay shows four example basins with different projected effects.  We reproduce that figure below."
   ]
  },
  {
   "cell_type": "code",
   "execution_count": null,
   "metadata": {},
   "outputs": [],
   "source": [
    "example_basins = ('COPPER', 'TARIM', 'RHONE', 'MAJES')\n",
    "\n",
    "color_fam = cm.get_cmap('tab20b')\n",
    "color_with = color_fam(0)\n",
    "color_no = color_fam(10)\n",
    "fig1, ((ax1, ax2), (ax3, ax4)) = plt.subplots(2, 2, sharex=True, \n",
    "                                              tight_layout=True, figsize=(9,6))\n",
    "for example_b, ax in zip(example_basins, (ax1,ax2,ax3,ax4)):\n",
    "    r_w = gSPEI.basin_ensemble_mean(SPEI_by_basin, example_b, 'WRunoff').rolling(window=12*30).mean()\n",
    "    r_n = gSPEI.basin_ensemble_mean(SPEI_by_basin, example_b, 'NRunoff').rolling(window=12*30).mean()\n",
    "    rm = SPEI_by_basin[example_b]['WRunoff'].rolling(window=12*30, axis=0).mean()\n",
    "    rm_q1 = rm.quantile(q=0.25, axis=1, interpolation='lower')\n",
    "    rm_q3 = rm.quantile(q=0.75, axis=1, interpolation='higher')\n",
    "    rm_n = SPEI_by_basin[example_b]['NRunoff'].rolling(window=12*30, axis=0).mean()\n",
    "    rm_q1_n = rm_n.quantile(q=0.25, axis=1, interpolation='lower')\n",
    "    rm_q3_n = rm_n.quantile(q=0.75, axis=1, interpolation='higher')\n",
    "    \n",
    "    ax.plot(yrs, r_w, 'k', linewidth=3.0)\n",
    "    ax.plot(yrs, rm_q1, 'k')\n",
    "    ax.plot(yrs, rm_q3, 'k')\n",
    "    ax.plot(yrs, r_n, 'k', linewidth=3.0, ls=':')\n",
    "    ax.plot(yrs, rm_q1_n, 'k', ls=':')\n",
    "    ax.plot(yrs, rm_q3_n, 'k', ls=':')\n",
    "    # for i in range(len(modelnames)):\n",
    "    #     ax.plot(yrs, single_models_w[i], color=colors_w[i], alpha=0.5)\n",
    "    #     ax.plot(yrs, single_models_n[i], color=colors_n[i], alpha=0.5)\n",
    "    ax.fill_between(yrs, rm_q1, rm_q3, color=color_with, alpha=0.4)\n",
    "    ax.fill_between(yrs, rm_q1_n, rm_q3_n, color=color_no, alpha=0.4)\n",
    "    ax.tick_params(axis='both', labelsize=12)\n",
    "    ax.set_xticks([2000, 2050, 2100])\n",
    "    ax.set_xlim(1980, 2100)\n",
    "    extra = Rectangle((0,0), 0.1, 0.1, fc='w', fill=False, \n",
    "                      edgecolor='none', linewidth=0) # invisible marker for a legend entry\n",
    "    leg = ax.legend([extra], [example_b], loc='best', \n",
    "                    handlelength=0, handletextpad=0, fancybox=True,\n",
    "                    prop={'size':13})\n",
    "for ax in (ax3, ax4):\n",
    "    ax.set_xlabel('Year', fontsize=14)\n",
    "for ax in (ax1, ax3):\n",
    "    ax.set_ylabel('Rolling mean SPEI', fontsize=14)\n",
    "fig1.align_ylabels()"
   ]
  },
  {
   "cell_type": "markdown",
   "metadata": {},
   "source": [
    "## Multi-basin summary: change in SPEI at end of century"
   ]
  },
  {
   "cell_type": "markdown",
   "metadata": {},
   "source": [
    "The functions above show timeseries and running statistics for individual basins.  But what can be said in general?  When we account for glacial runoff in our SPEI calculation, how does the mean SPEI change?  Does SPEI become more or less variable?\n",
    "\n",
    "We calculate the mean SPEI with and without glacial runoff, for each of our 8 climate models, in each of our 56 basins, over a 30-year period.  We do the same for variance.  Then, we plot markers with whiskers to visualize the inter-model range in each.  \n",
    "\n",
    "Figure 2 of Ultee, Coats & Mackay examines these summary results for the 30-year period at the end of the 21st century, but you can explore other periods by adjusting `timepd` below.  For simplicity, we show a single scenario here.  If you'd like to examine a different climate scenario, you can return to the top of the notebook and change the climate scenario setting `scen`.  The code to reproduce Figure 2 directly is also included in this repo, as `mean_var_shift-perscenario.py`."
   ]
  },
  {
   "cell_type": "code",
   "execution_count": null,
   "metadata": {},
   "outputs": [],
   "source": [
    "## Calculate changes due to glacial effect at end of century, using gSPEI functions\n",
    "timepd = (2070, 2100)\n",
    "\n",
    "## Calculate changes due to glacial effect at end of century, using ensemble approach\n",
    "meandiff, quantile_spread = gSPEI.ensemble_glacial_meandiff(SPEI_by_basin, years=timepd)\n",
    "vardiff, var_spread = gSPEI.ensemble_glacial_vardiff(SPEI_by_basin, years=timepd)\n",
    "\n",
    "## Calculate full multi-GCM range, for comparison\n",
    "_, mean_spread_full = gSPEI.glacial_meandiff(SPEI_by_model, years=timepd)\n",
    "_, var_spread_full = gSPEI.glacial_vardiff(SPEI_by_model, years=timepd)\n",
    "\n",
    "fig1, ax1 = plt.subplots(figsize=(5,4))\n",
    "ax1.axhline(y=0, ls=':', color='Grey', alpha=0.5)\n",
    "ax1.axvline(x=0, ls=':', color='Grey', alpha=0.5)\n",
    "ax1.errorbar(x=meandiff, y=vardiff, xerr=quantile_spread, yerr=var_spread, \n",
    "             ls='', marker='d', elinewidth=2.0, color='k')\n",
    "ax1.errorbar(x=meandiff, y=vardiff, xerr=mean_spread_full, yerr=var_spread_full, \n",
    "             ls='', marker='d', elinewidth=1.0, color='k', alpha=0.5) #extend whiskers to full range\n",
    "ax1.set_xlabel('Difference in mean SPEI', fontsize=16)\n",
    "ax1.set_ylabel('Difference in SPEI variance', fontsize=16)\n",
    "ax1.set(ylim=(-1, 2), yticks=(-1, 0, 1, 2),\n",
    "        xlim=(-0.1, 2), xticks=(0,1,2))\n",
    "ax1.tick_params(axis='both', labelsize=12)\n",
    "plt.tight_layout()\n",
    "plt.show()"
   ]
  },
  {
   "cell_type": "markdown",
   "metadata": {},
   "source": [
    "## Bonus: SPEI shifts over time\n",
    "SPEI responds to changes in global and regional climate over time.  So, it may be of interest to compare 30-year means from a period in the 20th century versus a period later in the 21st century.  This preliminary analysis was not included in the Ultee & Coats manuscript.\n",
    "\n",
    "We compute single-model mean and variance of SPEI for each basin, for two 30-year periods.  Below, we choose the historical period 1950-1980, before glacial runoff from the Huss & Hock model is introduced (1980), and the future period 2070-2100, at the end of the 21st century.  The plot is in the same style as the one above.  Remember, this plot shows shift in SPEI statistics over time rather than the shift in a single time period due to glacial effects."
   ]
  },
  {
   "cell_type": "code",
   "execution_count": null,
   "metadata": {},
   "outputs": [],
   "source": [
    "## 30-yr period means and variance\n",
    "modelmeans_1950_1980 = {m: [] for m in modelnames} #dictionary indexed by model name\n",
    "modelvar_1950_1980 = {m: [] for m in modelnames}\n",
    "modelmeans_2070_2100 = {m: [] for m in modelnames}\n",
    "modelvar_2070_2100 = {m: [] for m in modelnames}\n",
    "mean_shifts = {m: [] for m in modelnames}\n",
    "var_shifts = {m: [] for m in modelnames}\n",
    "\n",
    "for m in modelnames:\n",
    "    means_i = [np.nanmean(SPEI_by_model[m]['diff'][j][600:971]) for j in range(len(basin_names))]\n",
    "    var_i = [np.nanvar(SPEI_by_model[m]['diff'][j][600:971]) for j in range(len(basin_names))]\n",
    "    means_f = [np.nanmean(SPEI_by_model[m]['diff'][j][2039:2410]) for j in range(len(basin_names))]\n",
    "    var_f = [np.nanvar(SPEI_by_model[m]['diff'][j][2039:2410]) for j in range(len(basin_names))]\n",
    "    modelmeans_1950_1980[m] = means_i\n",
    "    modelvar_1950_1980[m] = var_i\n",
    "    modelmeans_2070_2100[m] = means_f\n",
    "    modelvar_2070_2100[m] = var_f\n",
    "    mean_shifts[m] = np.array(means_f) - np.array(means_i)\n",
    "    var_shifts[m] = np.array(var_f) - np.array(var_i)\n",
    "\n",
    "basin_mean_shifts = {b: [] for b in basin_names} #dictionary indexed by basin name\n",
    "basin_var_shifts = {b: [] for b in basin_names} #dictionary indexed by model name\n",
    "basin_meanshift_meds = [] #arrays for plotting\n",
    "basin_varshift_meds = []\n",
    "basin_meanshift_range = []\n",
    "basin_varshift_range = []\n",
    "\n",
    "for i, b in enumerate(basin_names):\n",
    "    bmeans_i = [np.nanmean(SPEI_by_model[m]['WRunoff'][i][600:971]) for m in modelnames]\n",
    "    bvar_i = [np.nanvar(SPEI_by_model[m]['WRunoff'][i][600:971]) for m in modelnames]\n",
    "    bmeans_f = [np.nanmean(SPEI_by_model[m]['WRunoff'][i][2039:2410]) for m in modelnames]\n",
    "    bvar_f = [np.nanvar(SPEI_by_model[m]['WRunoff'][i][2039:2410]) for m in modelnames]\n",
    "    basin_mean_shifts[b] = np.array(bmeans_f) - np.array(bmeans_i)\n",
    "    basin_var_shifts[b] = np.array(bvar_f) - np.array(bvar_i)\n",
    "    basin_meanshift_meds.append(np.nanmedian(basin_mean_shifts[b]))\n",
    "    basin_varshift_meds.append(np.nanmedian(basin_var_shifts[b]))\n",
    "    basin_meanshift_range.append(np.nanmax(basin_mean_shifts[b]) - np.nanmin(basin_mean_shifts[b]))\n",
    "    basin_varshift_range.append(np.nanmax(basin_var_shifts[b]) - np.nanmin(basin_var_shifts[b]))\n",
    "\n",
    "\n",
    "plt.figure('Mean and variance shifts, 2070-2100 versus 1950-1980, per basin for WRunoff case')\n",
    "plt.errorbar(x=basin_meanshift_meds, y=basin_varshift_meds, xerr=basin_meanshift_range, yerr=basin_varshift_range, ls='')\n",
    "plt.axes().set_xlabel('Difference in 30-yr mean SPEI', fontsize=16)\n",
    "plt.axes().set_ylabel('Difference in SPEI variance', fontsize=16)\n",
    "plt.axes().set_ylim(-0.5, 2.5)\n",
    "plt.axes().set_xlim(-1, 5)\n",
    "plt.show()"
   ]
  }
 ],
 "metadata": {
  "kernelspec": {
   "display_name": "Python 2",
   "language": "python",
   "name": "python2"
  },
  "language_info": {
   "codemirror_mode": {
    "name": "ipython",
    "version": 2
   },
   "file_extension": ".py",
   "mimetype": "text/x-python",
   "name": "python",
   "nbconvert_exporter": "python",
   "pygments_lexer": "ipython2",
   "version": "2.7.17"
  }
 },
 "nbformat": 4,
 "nbformat_minor": 2
}
