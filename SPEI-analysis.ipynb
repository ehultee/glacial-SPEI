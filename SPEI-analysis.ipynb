{
 "cells": [
  {
   "cell_type": "markdown",
   "metadata": {},
   "source": [
    "# Examining the effect of including glacial runoff in SPEI drought risk calculations"
   ]
  },
  {
   "cell_type": "markdown",
   "metadata": {},
   "source": [
    "Welcome!  This notebook will reproduce and visualise the analyses behind Ultee & Coats (manuscript title / submission status), using helper functions from gSPEI.py.  All code is stored in a public GitHub repository--click [here](https://github.com/ehultee/glacial-SPEI) for access."
   ]
  },
  {
   "cell_type": "markdown",
   "metadata": {},
   "source": [
    "### Loading in modules and data"
   ]
  },
  {
   "cell_type": "code",
   "execution_count": null,
   "metadata": {},
   "outputs": [],
   "source": [
    "import numpy as np\n",
    "import matplotlib.pyplot as plt\n",
    "from matplotlib import cm\n",
    "from gSPEI import *"
   ]
  },
  {
   "cell_type": "code",
   "execution_count": null,
   "metadata": {},
   "outputs": [],
   "source": [
    "fpath = 'Documents/GitHub/Data_unsynced/SPEI_files/' # local file path to SPEI output files\n",
    "\n",
    "## Settings in filenames\n",
    "integration_times = np.arange(3, 28, 4) # all SPEI integration times used\n",
    "modelnames = ['CanESM2', 'CCSM4', 'CNRM-CM5', 'CSIRO-Mk3-6-0', 'GISS-E2-R', 'INMCM4', 'MIROC-ESM', 'NorESM1-M'] # all models used in comparison\n",
    "scenarios = ['Rcp4p5', 'Rcp8p5'] # climate scenarios\n",
    "\n",
    "## Basins in the order they are written in each file\n",
    "basins = ['INDUS','TARIM','BRAHMAPUTRA','ARAL SEA','COPPER','GANGES','YUKON','ALSEK','SUSITNA','BALKHASH','STIKINE','SANTA CRUZ',\n",
    "'FRASER','BAKER','YANGTZE','SALWEEN','COLUMBIA','ISSYK-KUL','AMAZON','COLORADO','TAKU','MACKENZIE','NASS','THJORSA','JOEKULSA A F.',\n",
    "'KUSKOKWIM','RHONE','SKEENA','OB','OELFUSA','MEKONG','DANUBE','NELSON RIVER','PO','KAMCHATKA','RHINE','GLOMA','HUANG HE','INDIGIRKA',\n",
    "'LULE','RAPEL','SANTA','SKAGIT','KUBAN','TITICACA','NUSHAGAK','BIOBIO','IRRAWADDY','NEGRO','MAJES','CLUTHA','DAULE/VINCES',\n",
    "'KALIXAELVEN','MAGDALENA','DRAMSELV','COLVILLE']"
   ]
  },
  {
   "cell_type": "markdown",
   "metadata": {},
   "source": [
    "Now we will load data into a dictionary for one specific climate scenario, indexed by model name."
   ]
  },
  {
   "cell_type": "code",
   "execution_count": null,
   "metadata": {},
   "outputs": [],
   "source": [
    "itime = integration_times[3] # select timescale of integration. [3] is 15 months, compatible with PDSI\n",
    "scen = scenarios[0] # choose whether to load RCP 4.5 or RCP 8.5\n",
    "\n",
    "SPEI_by_model = {m: {} for m in modelnames} # create dictionary indexed by model name\n",
    "for m in modelnames:\n",
    "    norunoff_f_m = fpath+'NRunoff_{}_{}_{}.txt'.format(itime, m, scen)\n",
    "    wrunoff_f_m = fpath+'WRunoff_{}_{}_{}.txt'.format(itime, m, scen)\n",
    "    SPEI_by_model[m]['NRunoff'] = np.loadtxt(norunoff_f_m)\n",
    "    SPEI_by_model[m]['WRunoff'] = np.loadtxt(wrunoff_f_m)\n",
    "    SPEI_by_model[m]['diff'] = SPEI_by_model[m]['WRunoff'] - SPEI_by_model[m]['NRunoff']"
   ]
  },
  {
   "cell_type": "markdown",
   "metadata": {},
   "source": [
    "## Glacial effect per basin"
   ]
  },
  {
   "cell_type": "markdown",
   "metadata": {},
   "source": [
    "We will use a helper function from gSPEI to plot the running mean glacial effect in a given basin.  Choose the basin by its index in the \"basins\" list."
   ]
  },
  {
   "cell_type": "code",
   "execution_count": null,
   "metadata": {},
   "outputs": [],
   "source": [
    "window = 30 # window in years over which to calculate the running mean\n",
    "basin_id = 1 # index of basin of interest in \"basins\", above\n",
    "\n",
    "plot_basin_runmean(basin_id=basin_id, permodel_dict=SPEI_by_model)"
   ]
  },
  {
   "cell_type": "markdown",
   "metadata": {},
   "source": [
    "## Mean and variance of SPEI"
   ]
  },
  {
   "cell_type": "markdown",
   "metadata": {},
   "source": [
    "When we account for glacial runoff in our SPEI calculation, how does the mean SPEI change?  Does SPEI become more or less variable?\n",
    "\n",
    "We calculate the mean SPEI with and without glacial runoff, for each of our 8 climate models, over a 30-year period.  (By default, we do this at the end of the 21st century, but you can explore other periods by adjusting the \"years\" argument.)  We do the same for variance.  Then, we make an errorbar plot to visualize the inter-model range in each."
   ]
  },
  {
   "cell_type": "code",
   "execution_count": null,
   "metadata": {},
   "outputs": [],
   "source": [
    "## Calculate changes due to glacial effect at end of century, using gSPEI functions\n",
    "yrs = (2070, 2100)\n",
    "\n",
    "bas_glac_meanmed, mean_spread = glacial_meandiff(SPEI_by_model, years=yrs)\n",
    "bas_glac_varmed, var_spread = glacial_vardiff(SPEI_by_model, years=yrs)\n",
    "\n",
    "plt.figure('Mean and variance shifts due to glacial effects in 2070-2100')\n",
    "plt.errorbar(x=bas_glac_meanmed, y=bas_glac_varmed, xerr=mean_spread, yerr=var_spread, ls='', marker='d', elinewidth=2.0, color='DarkBlue')\n",
    "plt.axes().set_xlabel('Difference in mean SPEI', fontsize=16)\n",
    "plt.axes().set_ylabel('Difference in SPEI variance', fontsize=16)\n",
    "plt.axes().set_ylim(-1.5, 1.0)\n",
    "plt.axes().set_xlim(-0.5, 5)\n",
    "plt.show()\n"
   ]
  }
 ],
 "metadata": {
  "kernelspec": {
   "display_name": "Python 3",
   "language": "python",
   "name": "python3"
  },
  "language_info": {
   "codemirror_mode": {
    "name": "ipython",
    "version": 3
   },
   "file_extension": ".py",
   "mimetype": "text/x-python",
   "name": "python",
   "nbconvert_exporter": "python",
   "pygments_lexer": "ipython3",
   "version": "3.7.3"
  }
 },
 "nbformat": 4,
 "nbformat_minor": 2
}
